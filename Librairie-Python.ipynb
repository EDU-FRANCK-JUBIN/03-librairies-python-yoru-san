{
 "cells": [
  {
   "cell_type": "code",
   "execution_count": 1,
   "metadata": {},
   "outputs": [
    {
     "name": "stdout",
     "output_type": "stream",
     "text": [
      "Dimensions: \n",
      "(768, 9)\n",
      "\n",
      "Colonnes:\n",
      "Index(['pregnant', 'diastolic', 'triceps', 'bodymass', 'pedigree', 'age',\n",
      "       'plasma', 'serum', 'diabete'],\n",
      "      dtype='object')\n",
      "\n",
      "Types\n",
      "pregnant       int64\n",
      "diastolic      int64\n",
      "triceps        int64\n",
      "bodymass     float64\n",
      "pedigree     float64\n",
      "age            int64\n",
      "plasma         int64\n",
      "serum          int64\n",
      "diabete       object\n",
      "dtype: object\n"
     ]
    }
   ],
   "source": [
    "import pandas\n",
    "pima = pandas.read_table(\"pima.txt\",sep=\"\\t\",header=0)\n",
    "\n",
    "print(\"Dimensions: \")\n",
    "print(pima.shape)\n",
    "\n",
    "print(\"\\nColonnes:\")\n",
    "print(pima.columns)\n",
    "\n",
    "print(\"\\nTypes\")\n",
    "print(pima.dtypes)"
   ]
  },
  {
   "cell_type": "code",
   "execution_count": 2,
   "metadata": {},
   "outputs": [
    {
     "name": "stdout",
     "output_type": "stream",
     "text": [
      "(468, 8) (300, 8) (468,) (300,)\n"
     ]
    }
   ],
   "source": [
    "data = pima.values\n",
    "\n",
    "X = data[:,0:8]\n",
    "\n",
    "y = data[:,8]\n",
    "\n",
    "from sklearn import model_selection\n",
    "\n",
    "X_app,X_test,y_app,y_test = model_selection.train_test_split(X,y,test_size = 300,random_state=0)\n",
    "print(X_app.shape,X_test.shape,y_app.shape,y_test.shape)"
   ]
  },
  {
   "cell_type": "code",
   "execution_count": 3,
   "metadata": {},
   "outputs": [
    {
     "name": "stdout",
     "output_type": "stream",
     "text": [
      "[[ 8.75153769e-02 -1.59511103e-02  1.70428483e-03  5.18609374e-02\n",
      "   5.34696503e-01  1.24335202e-02  2.40115458e-02 -2.91586161e-04]] [-5.13527961]\n"
     ]
    }
   ],
   "source": [
    "from sklearn.linear_model import LogisticRegression\n",
    "\n",
    "lr = LogisticRegression(solver='liblinear')\n",
    "\n",
    "modele = lr.fit(X_app,y_app)\n",
    "\n",
    "print(modele.coef_,modele.intercept_)"
   ]
  },
  {
   "cell_type": "code",
   "execution_count": 4,
   "metadata": {},
   "outputs": [
    {
     "name": "stdout",
     "output_type": "stream",
     "text": [
      "[[184  17]\n",
      " [ 45  54]]\n",
      "\n",
      "Taux de succès:\n",
      "0.7933333333333333\n",
      "\n",
      "Taux d'erreur:\n",
      "0.20666666666666667\n",
      "\n",
      "Sensibilité:\n",
      "0.5454545454545454\n"
     ]
    }
   ],
   "source": [
    "y_pred = modele.predict(X_test)\n",
    "\n",
    "from sklearn import metrics\n",
    "\n",
    "cm = metrics.confusion_matrix(y_test,y_pred)\n",
    "print(cm)\n",
    "\n",
    "acc = metrics.accuracy_score(y_test,y_pred)\n",
    "print(\"\\nTaux de succès:\")\n",
    "print(acc)\n",
    "\n",
    "err = 1.0 - acc\n",
    "print(\"\\nTaux d'erreur:\")\n",
    "print(err)\n",
    "\n",
    "se = metrics.recall_score(y_test,y_pred,pos_label='positive')\n",
    "print(\"\\nSensibilité:\")\n",
    "print(se)"
   ]
  },
  {
   "cell_type": "code",
   "execution_count": 5,
   "metadata": {},
   "outputs": [
    {
     "name": "stdout",
     "output_type": "stream",
     "text": [
      "0.9154228855721394\n"
     ]
    }
   ],
   "source": [
    "def specificity(y,y_hat):\n",
    "    \n",
    "    mc = metrics.confusion_matrix(y,y_hat)\n",
    "\n",
    "    import numpy\n",
    "    res = mc[0,0]/numpy.sum(mc[0,:])\n",
    "    return res\n",
    "\n",
    "specificite = metrics.make_scorer(specificity,greater_is_better=True)\n",
    "\n",
    "sp = specificite(modele,X_test,y_test)\n",
    "print(sp) # 0.915 = 184 / (184 + 17)"
   ]
  },
  {
   "cell_type": "code",
   "execution_count": 6,
   "metadata": {},
   "outputs": [
    {
     "name": "stdout",
     "output_type": "stream",
     "text": [
      "[[ 1.17087631e-01 -1.68947770e-02  7.46053001e-04  5.97221654e-02\n",
      "   6.81392866e-01  7.21999666e-03  2.83788475e-02 -6.42978367e-04]] [-5.88988049]\n",
      "[0.74025974 0.75324675 0.79220779 0.72727273 0.74025974 0.74025974\n",
      " 0.81818182 0.79220779 0.73684211 0.82894737]\n",
      "0.7669685577580314\n"
     ]
    }
   ],
   "source": [
    "from sklearn.linear_model import LogisticRegression\n",
    "\n",
    "lr = LogisticRegression(solver='liblinear')\n",
    "\n",
    "modele_all = lr.fit(X,y)\n",
    "\n",
    "print(modele_all.coef_,modele_all.intercept_)\n",
    "\n",
    "from sklearn import model_selection\n",
    "\n",
    "succes = model_selection.cross_val_score(lr,X,y,cv=10,scoring='accuracy')\n",
    "\n",
    "print(succes)\n",
    "\n",
    "print(succes.mean())"
   ]
  },
  {
   "cell_type": "code",
   "execution_count": 7,
   "metadata": {},
   "outputs": [
    {
     "data": {
      "text/plain": [
       "<Figure size 640x480 with 1 Axes>"
      ]
     },
     "metadata": {},
     "output_type": "display_data"
    }
   ],
   "source": [
    "from sklearn.linear_model import LogisticRegression\n",
    "\n",
    "lr = LogisticRegression(solver='liblinear')\n",
    "\n",
    "modele = lr.fit(X_app,y_app)\n",
    "\n",
    "probas = lr.predict_proba(X_test)\n",
    "\n",
    "score = probas[:,1]\n",
    "\n",
    "pos = pandas.get_dummies(y_test).values\n",
    "\n",
    "pos = pos[:,1]\n",
    "\n",
    "import numpy\n",
    "npos = numpy.sum(pos)\n",
    "\n",
    "index = numpy.argsort(score)\n",
    "\n",
    "index = index[::-1]\n",
    "\n",
    "sort_pos = pos[index]\n",
    "\n",
    "cpos = numpy.cumsum(sort_pos)\n",
    "\n",
    "rappel = cpos/npos\n",
    "\n",
    "n = y_test.shape[0]\n",
    "\n",
    "taille = numpy.arange(start=1,stop=301,step=1)\n",
    "\n",
    "taille = taille / n\n",
    "\n",
    "import matplotlib.pyplot as plt\n",
    "\n",
    "plt.title('Courbe de gain')\n",
    "plt.xlabel('Taille de cible')\n",
    "plt.ylabel('Rappel')\n",
    "\n",
    "plt.xlim(0,1)\n",
    "plt.ylim(0,1)\n",
    "\n",
    "plt.scatter(taille,taille,marker='.',color='blue')\n",
    "\n",
    "plt.scatter(taille,rappel,marker='.',color='red')\n",
    "\n",
    "plt.show()"
   ]
  },
  {
   "cell_type": "code",
   "execution_count": 15,
   "metadata": {},
   "outputs": [
    {
     "name": "stderr",
     "output_type": "stream",
     "text": [
      "C:\\ProgramData\\Anaconda3\\lib\\site-packages\\sklearn\\model_selection\\_split.py:1978: FutureWarning: The default value of cv will change from 3 to 5 in version 0.22. Specify it explicitly to silence this warning.\n",
      "  warnings.warn(CV_WARNING, FutureWarning)\n"
     ]
    },
    {
     "name": "stdout",
     "output_type": "stream",
     "text": [
      "                           params  mean_test_score\n",
      "0     {'C': 0.1, 'kernel': 'rbf'}         0.638889\n",
      "1  {'C': 0.1, 'kernel': 'linear'}         0.752137\n",
      "2       {'C': 1, 'kernel': 'rbf'}         0.638889\n",
      "3    {'C': 1, 'kernel': 'linear'}         0.747863\n",
      "4      {'C': 10, 'kernel': 'rbf'}         0.638889\n",
      "5   {'C': 10, 'kernel': 'linear'}         0.756410\n",
      "\n",
      "Meileur paramétrage:\n",
      "{'C': 10, 'kernel': 'linear'}\n",
      "\n",
      "Meileure performance:\n",
      "0.7564102564102564\n",
      "\n",
      "Succès:\n",
      "0.7833333333333333\n"
     ]
    }
   ],
   "source": [
    "from sklearn import model_selection\n",
    "from sklearn import svm\n",
    "\n",
    "mvs = svm.SVC(gamma='auto')\n",
    "parametres = [{'C':[0.1,1,10],'kernel':['rbf','linear']}]\n",
    "\n",
    "grid = model_selection.GridSearchCV(estimator=mvs,param_grid=parametres,scoring='accuracy')\n",
    "\n",
    "grille = grid.fit(X_app,y_app)\n",
    "\n",
    "print(pandas.DataFrame.from_dict(grille.cv_results_).loc[:,[\"params\",\"mean_test_score\"]])\n",
    "\n",
    "print(\"\\nMeileur paramétrage:\")\n",
    "print(grille.best_params_)\n",
    "\n",
    "print(\"\\nMeileure performance:\")\n",
    "print(grille.best_score_)\n",
    "\n",
    "y_pred3 = grille.predict(X_test)\n",
    "\n",
    "print(\"\\nSuccès:\")\n",
    "print(metrics.accuracy_score(y_test,y_pred3))"
   ]
  },
  {
   "cell_type": "code",
   "execution_count": 14,
   "metadata": {},
   "outputs": [
    {
     "name": "stdout",
     "output_type": "stream",
     "text": [
      "\n",
      "Nb de valeurs:\n",
      "4\n",
      "\n",
      "Variables:\n",
      "[ True False False  True  True False  True False]\n",
      "\n",
      "Ordre de suppression:\n",
      "[1 2 4 1 1 3 1 5]\n",
      "\n",
      "Succès après réévaluation:\n",
      "0.7866666666666666\n"
     ]
    }
   ],
   "source": [
    "from sklearn.linear_model import LogisticRegression\n",
    "\n",
    "lr = LogisticRegression(solver='liblinear')\n",
    "\n",
    "from sklearn.feature_selection import RFE\n",
    "selecteur = RFE(estimator=lr)\n",
    "\n",
    "sol = selecteur.fit(X_app,y_app)\n",
    "\n",
    "print(\"\\nNb de valeurs:\")\n",
    "print(sol.n_features_)\n",
    "\n",
    "print(\"\\nVariables:\")\n",
    "print(sol.support_)\n",
    "\n",
    "print(\"\\nOrdre de suppression:\")\n",
    "print(sol.ranking_) \n",
    "\n",
    "X_new_app = X_app[:,sol.support_]\n",
    "\n",
    "modele_sel = lr.fit(X_new_app,y_app)\n",
    "\n",
    "X_new_test = X_test[:,sol.support_]\n",
    "\n",
    "y_pred_sel = modele_sel.predict(X_new_test)\n",
    "\n",
    "print(\"\\nSuccès après réévaluation:\")\n",
    "print(metrics.accuracy_score(y_test,y_pred_sel))\n"
   ]
  },
  {
   "cell_type": "code",
   "execution_count": null,
   "metadata": {},
   "outputs": [],
   "source": []
  }
 ],
 "metadata": {
  "kernelspec": {
   "display_name": "Python 3",
   "language": "python",
   "name": "python3"
  },
  "language_info": {
   "codemirror_mode": {
    "name": "ipython",
    "version": 3
   },
   "file_extension": ".py",
   "mimetype": "text/x-python",
   "name": "python",
   "nbconvert_exporter": "python",
   "pygments_lexer": "ipython3",
   "version": "3.7.4"
  }
 },
 "nbformat": 4,
 "nbformat_minor": 2
}
